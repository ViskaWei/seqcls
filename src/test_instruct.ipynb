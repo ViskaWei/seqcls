{
 "cells": [
  {
   "cell_type": "code",
   "execution_count": 35,
   "metadata": {},
   "outputs": [],
   "source": [
    "from transformers import AutoTokenizer, AutoModelForSeq2SeqLM\n",
    "model_name_or_path = \"allenai/tk-instruct-3b-def\"\n",
    "tokenizer = AutoTokenizer.from_pretrained(model_name_or_path)\n",
    "model = AutoModelForSeq2SeqLM.from_pretrained(model_name_or_path)"
   ]
  },
  {
   "cell_type": "code",
   "execution_count": 36,
   "metadata": {},
   "outputs": [
    {
     "data": {
      "text/plain": [
       "'Indian Rupee'"
      ]
     },
     "execution_count": 36,
     "metadata": {},
     "output_type": "execute_result"
    }
   ],
   "source": [
    "\n",
    "input_ids = tokenizer.encode(\n",
    "        \"Definition: return the currency of the given country. Now complete the following example - Input: India. Output:\", \n",
    "        return_tensors=\"pt\")\n",
    "output = model.generate(input_ids, max_length=10)\n",
    "output = tokenizer.decode(output[0], skip_special_tokens=True)   # model should output 'Indian Rupee'\n",
    "output"
   ]
  },
  {
   "cell_type": "code",
   "execution_count": 38,
   "metadata": {},
   "outputs": [],
   "source": [
    "q = \"Input: is 'LUKOIL' mentioned in 'AccountID: 438157097450874. PartyDATA: PETROTEL LUKOIL SA  STR MIHAI BRAVU 235 PLOIESTI JUDET PRAHOVA ROMANIA H' the same entity as 'LUKOIL' of entity type: COMPANY? Output:\""
   ]
  },
  {
   "cell_type": "code",
   "execution_count": 39,
   "metadata": {},
   "outputs": [
    {
     "data": {
      "text/plain": [
       "'True'"
      ]
     },
     "execution_count": 39,
     "metadata": {},
     "output_type": "execute_result"
    }
   ],
   "source": [
    "input_ids = tokenizer.encode(\n",
    "        \"Definition: return True of False. {q}\", \n",
    "        return_tensors=\"pt\")\n",
    "output = model.generate(input_ids, max_length=10)\n",
    "output = tokenizer.decode(output[0], skip_special_tokens=True)   # model should output 'Indian Rupee'\n",
    "output"
   ]
  },
  {
   "cell_type": "code",
   "execution_count": 65,
   "metadata": {},
   "outputs": [],
   "source": [
    "X = 'LUKOIL'\n",
    "A = 'AccountID: 438157097450874. PartyDATA: PETROTEL LUKOIL SA  STR MIHAI BRAVU 235 PLOIESTI JUDET PRAHOVA ROMANIA H'\n",
    "B = 'CHEMICAL GROUP'\n"
   ]
  },
  {
   "cell_type": "code",
   "execution_count": 62,
   "metadata": {},
   "outputs": [],
   "source": [
    "X = 'Macy'\n",
    "A = 'Macy\\'s is an American department store chain founded in 1858'\n",
    "B = 'Macy is a nice girl. She helped me yesterday'"
   ]
  },
  {
   "cell_type": "code",
   "execution_count": 63,
   "metadata": {},
   "outputs": [
    {
     "data": {
      "text/plain": [
       "'Yes'"
      ]
     },
     "execution_count": 63,
     "metadata": {},
     "output_type": "execute_result"
    }
   ],
   "source": [
    "input_ids = tokenizer.encode(\n",
    "        f\"Definition: answer the question. Inputs: Is {X} mentioned in {A} is the same entity as mentioned in {B} of entity type: COMPANY?  Output:\", \n",
    "        return_tensors=\"pt\")\n",
    "output = model.generate(input_ids, max_length=10)\n",
    "output = tokenizer.decode(output[0], skip_special_tokens=True)   # model should output 'Indian Rupee'\n",
    "output"
   ]
  },
  {
   "cell_type": "code",
   "execution_count": 64,
   "metadata": {},
   "outputs": [
    {
     "data": {
      "text/plain": [
       "'True'"
      ]
     },
     "execution_count": 64,
     "metadata": {},
     "output_type": "execute_result"
    }
   ],
   "source": [
    "input_ids = tokenizer.encode(\n",
    "        f\"Definition: return False or True. Inputs: Is {X} mentioned in {A} is the same entity as mentioned in {B} of entity type: COMPANY?  Output:\", \n",
    "        return_tensors=\"pt\")\n",
    "output = model.generate(input_ids, max_length=10)\n",
    "output = tokenizer.decode(output[0], skip_special_tokens=True)   # model should output 'Indian Rupee'\n",
    "output"
   ]
  }
 ],
 "metadata": {
  "kernelspec": {
   "display_name": "viska-torch",
   "language": "python",
   "name": "python3"
  },
  "language_info": {
   "codemirror_mode": {
    "name": "ipython",
    "version": 3
   },
   "file_extension": ".py",
   "mimetype": "text/x-python",
   "name": "python",
   "nbconvert_exporter": "python",
   "pygments_lexer": "ipython3",
   "version": "3.9.10"
  },
  "orig_nbformat": 4
 },
 "nbformat": 4,
 "nbformat_minor": 2
}
